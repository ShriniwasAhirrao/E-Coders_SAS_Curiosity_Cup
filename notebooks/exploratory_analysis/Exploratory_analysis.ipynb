{
 "cells": [
  {
   "cell_type": "code",
   "execution_count": null,
   "id": "4bbd40c6-e3e2-4f4b-9dd5-f35dd2c6234d",
   "metadata": {},
   "outputs": [],
   "source": []
  }
 ],
 "metadata": {
  "kernelspec": {
   "display_name": "",
   "name": ""
  },
  "language_info": {
   "name": ""
  }
 },
 "nbformat": 4,
 "nbformat_minor": 5
}
